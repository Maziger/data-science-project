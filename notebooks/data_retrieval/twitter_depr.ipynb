{
 "cells": [
  {
   "cell_type": "markdown",
   "id": "42fc1e3e",
   "metadata": {},
   "source": [
    "### Use packages: Twitter API as an example"
   ]
  },
  {
   "cell_type": "markdown",
   "id": "81853ea2",
   "metadata": {},
   "source": [
    "Many web servers have their own APIs ready to use. By using these convenient tools, we can get started right off following their documentations and examples without any manual efforts. \n",
    "\n",
    "We will be using <a href=\"https://apps.twitter.com/\" target=\"_blank\">Twitter API</a> as an example. We will first install this package as shown [here](https://python-twitter.readthedocs.io/en/latest/installation.html)"
   ]
  },
  {
   "cell_type": "markdown",
   "id": "80b4af1f",
   "metadata": {},
   "source": [
    "You have to register an account for Twitter Developer and register an app. \n",
    "\n",
    "- go to https://dev.twitter.com/ and get an app togther. <a href=\"https://python-twitter.readthedocs.io/en/latest/getting_started.html\" target=\"_b lank\">Here</a>'s a quick start on how you can do this. \n",
    "\n",
    "After obtaining *__consumer key__*, *__consumer secret__*, *__access token__*, and *__access token secret__*, you are ready to retrieve some data from Twitter!"
   ]
  },
  {
   "cell_type": "markdown",
   "id": "35122443",
   "metadata": {},
   "source": [
    "I have created a .env file in my root folder in the following way:\n",
    "\n",
    "```\n",
    "consumer_key = your_consumer_key \n",
    "consumer_secret = your_consumer_secret\n",
    "access_token = your_access_token\n",
    "access_secret = your_access_secret\n",
    "```"
   ]
  },
  {
   "cell_type": "code",
   "execution_count": 86,
   "id": "2580129b",
   "metadata": {},
   "outputs": [],
   "source": [
    "## load twitter package, which a well-written Python package for Twitter APIs\n",
    "from dotenv import load_dotenv\n",
    "import twitter\n",
    "import os\n",
    "\n",
    "load_dotenv()\n",
    "\n",
    "api = twitter.Api(consumer_key=os.environ['consumer_key'],\n",
    "                  consumer_secret=os.environ['consumer_secret'],                  \n",
    "                  access_token_key=os.environ['access_token'],\n",
    "                  access_token_secret=os.environ['access_secret'])\n",
    "\n",
    "## check status\n",
    "# api.VerifyCredentials()"
   ]
  },
  {
   "cell_type": "code",
   "execution_count": 89,
   "id": "4b7c35c7-8951-42a0-b3d6-c434e4d89c97",
   "metadata": {},
   "outputs": [
    {
     "data": {
      "text/plain": [
       "'pxckjDmamJ3MFSB4zbfGsf81X'"
      ]
     },
     "execution_count": 89,
     "metadata": {},
     "output_type": "execute_result"
    }
   ],
   "source": [
    "os.environ['consumer_key']"
   ]
  },
  {
   "cell_type": "code",
   "execution_count": null,
   "id": "d278361c",
   "metadata": {},
   "outputs": [],
   "source": [
    "statuses = api.GetUserTimeline(screen_name=\"MPBagger\")\n",
    "for s in statuses:\n",
    "    print(s.text)"
   ]
  },
  {
   "cell_type": "code",
   "execution_count": null,
   "id": "e552bbd9",
   "metadata": {},
   "outputs": [],
   "source": [
    "statuses = api.GetUserTimeline(user_id=\"966273572015624192\")\n",
    "for s in statuses:\n",
    "    print(s.created_at)"
   ]
  },
  {
   "cell_type": "code",
   "execution_count": null,
   "id": "5adf11e9",
   "metadata": {},
   "outputs": [],
   "source": [
    "friends = api.GetFriends()\n",
    "for f in friends:\n",
    "    print(f.name)"
   ]
  },
  {
   "cell_type": "markdown",
   "id": "f81f3325",
   "metadata": {},
   "source": [
    "More interestingly, let's go get some tweets from Twitter. Let's try to search for tweets related to `gpt4` since 01/01/2023 in English.\n",
    "- See https://dev.twitter.com/rest/public/search for more informaiton on how to construct a query"
   ]
  },
  {
   "cell_type": "code",
   "execution_count": null,
   "id": "b711df09",
   "metadata": {},
   "outputs": [],
   "source": [
    "results = api.GetSearch(\n",
    "    raw_query=\"q=gpt4&src=typed_query&since=2023-01-01&lang=en\")\n"
   ]
  },
  {
   "cell_type": "code",
   "execution_count": null,
   "id": "62363145",
   "metadata": {},
   "outputs": [],
   "source": [
    "len(results)"
   ]
  },
  {
   "cell_type": "code",
   "execution_count": null,
   "id": "0ce1f6b9",
   "metadata": {},
   "outputs": [],
   "source": [
    "print(results)"
   ]
  },
  {
   "cell_type": "code",
   "execution_count": null,
   "id": "8e224433",
   "metadata": {},
   "outputs": [],
   "source": [
    "from IPython.display import clear_output\n",
    "for tw in results:\n",
    "    print(\"%s. Tweeted by \\033[41m%s\\033[0m\"%(tw.text, tw.user.screen_name))"
   ]
  },
  {
   "cell_type": "markdown",
   "id": "7063e1f8",
   "metadata": {},
   "source": [
    "I went through some examples of using APIs to get various types of data in Python. The last Twitter example is relatively superficial. There are other packages to twitter, [`tweepy`] package seems to be pretty popular as well: http://www.tweepy.org/"
   ]
  },
  {
   "cell_type": "markdown",
   "id": "b33356c0",
   "metadata": {},
   "source": [
    "return to [overview](../00_overview.ipynb)"
   ]
  }
 ],
 "metadata": {
  "kernelspec": {
   "display_name": "Python 3 (ipykernel)",
   "language": "python",
   "name": "python3"
  },
  "language_info": {
   "codemirror_mode": {
    "name": "ipython",
    "version": 3
   },
   "file_extension": ".py",
   "mimetype": "text/x-python",
   "name": "python",
   "nbconvert_exporter": "python",
   "pygments_lexer": "ipython3",
   "version": "3.11.9"
  }
 },
 "nbformat": 4,
 "nbformat_minor": 5
}
