{
 "cells": [
  {
   "cell_type": "markdown",
   "id": "edb0757a",
   "metadata": {},
   "source": [
    "# Sentiment Analysis\n",
    "\n",
    "Sentiment analysis is the process of identifying and extracting subjective information from text data, which can include opinions, attitudes, emotions, and other similar aspects of the writer's experience. The goal of sentiment analysis is to determine the overall sentiment of a piece of text, whether it is positive, negative, or neutral, and to identify the specific aspects of the text that contribute to that sentiment.\n",
    "\n",
    "There are several ways to perform sentiment analysis, some of which include:\n",
    "\n",
    "- Rule-based approach: This involves the use of a set of pre-defined rules to identify and classify sentiment in text. For example, a rule-based system might identify the presence of certain words or phrases that are indicative of positive or negative sentiment, and use those to assign a sentiment score to the text.\n",
    "\n",
    "- Machine learning approach: This involves training a machine learning algorithm on a set of labeled data, where each piece of text is associated with a sentiment label (positive, negative, or neutral). The algorithm learns to identify patterns in the data that are indicative of each sentiment label and can then be used to classify new, unlabeled text data.\n",
    "\n",
    "- Hybrid approach: This combines the rule-based and machine learning approaches, using a set of pre-defined rules to identify sentiment in text and then using a machine learning algorithm to refine and improve the sentiment analysis.\n",
    "\n",
    "- Lexicon-based approach: This approach involves the use of sentiment lexicons or dictionaries, which are pre-built lists of words and phrases that are associated with positive or negative sentiment. The sentiment of a given text can then be determined by calculating the number and polarity of sentiment words present in the text.\n",
    "\n",
    "- Deep learning approach: This involves the use of neural networks to learn and classify sentiment in text. Deep learning models can process large amounts of text data and identify complex patterns that may be difficult to identify using other methods.\n",
    "\n",
    "Overall, sentiment analysis can be performed using a variety of methods, each with its own strengths and weaknesses. The choice of approach will depend on the specific needs of the application and the resources available for implementation."
   ]
  },
  {
   "cell_type": "markdown",
   "id": "e1a372dd",
   "metadata": {},
   "source": [
    "Python provides several libraries for performing sentiment analysis. Some popular libraries and tools for sentiment analysis in Python include:\n",
    "\n",
    "- TextBlob: TextBlob is a Python library that provides simple API for common natural language processing (NLP) tasks such as sentiment analysis, part-of-speech tagging, and noun phrase extraction.\n",
    "\n",
    "- NLTK: The Natural Language Toolkit (NLTK) is a widely used Python library for NLP. It provides various tools and methods for text processing, including sentiment analysis.\n",
    "\n",
    "- VaderSentiment: VaderSentiment is a Python library that is specifically designed for sentiment analysis of social media text. It is based on a rule-based approach and can handle emoticons and slang language.\n",
    "\n",
    "- Scikit-learn: Scikit-learn is a machine learning library for Python that can be used for various NLP tasks including sentiment analysis. It provides various algorithms for text classification such as Naive Bayes, Support Vector Machines, and Logistic Regression.\n",
    "\n",
    "- Hugging Face: Hugging Face built on top of PyTorch and provides pre-trained models for e.g. sentiment analysis, such as BERT (Bidirectional Encoder Representations from Transformers), RoBERTa (Robustly Optimized BERT), and DistilBERT, among others. These models can be fine-tuned on specific datasets to improve their performance for sentiment analysis on specific domains or languages.\n",
    "\n",
    "To perform sentiment analysis using these libraries, you will typically need to first preprocess your text data, such as tokenization, stop word removal, and stemming. Then, you can use the sentiment analysis functions or methods provided by the library of your choice to obtain a sentiment score or label for your text data.\n",
    "\n",
    "For example, using TextBlob, you can perform sentiment analysis on a sentence as follows:"
   ]
  },
  {
   "cell_type": "code",
   "execution_count": null,
   "id": "a9ef8da7",
   "metadata": {},
   "outputs": [],
   "source": [
    "from textblob import TextBlob\n",
    "\n",
    "text = \"I love pizza\"\n",
    "blob = TextBlob(text)\n",
    "sentiment_score = blob.sentiment.polarity\n",
    "print(sentiment_score)"
   ]
  },
  {
   "cell_type": "code",
   "execution_count": null,
   "id": "803ba535",
   "metadata": {},
   "outputs": [],
   "source": [
    "help(TextBlob.sentiment)"
   ]
  },
  {
   "cell_type": "markdown",
   "id": "a98c2af6",
   "metadata": {},
   "source": [
    "This code will output the sentiment score of the given sentence as a floating-point value between -1 (negative) and 1 (positive). In this case, the sentiment score will be a positive value, indicating a positive sentiment."
   ]
  },
  {
   "cell_type": "markdown",
   "id": "be1e2e6b",
   "metadata": {},
   "source": [
    "Hugging Face is a popular open-source library for natural language processing (NLP) tasks that provides easy-to-use interfaces to pre-trained transformer models, such as BERT and RoBERTa. These pre-trained models can be fine-tuned on specific NLP tasks, such as sentiment analysis, with just a few lines of code.\n",
    "\n",
    "A pipeline transformer is a simple and convenient way to perform a wide range of NLP tasks, including sentiment analysis, using pre-trained transformer models. A pipeline transformer allows you to perform these tasks without the need to fine-tune a model or write complex code."
   ]
  },
  {
   "cell_type": "markdown",
   "id": "43aac936",
   "metadata": {},
   "source": [
    "`pip install -q transformers`"
   ]
  },
  {
   "cell_type": "code",
   "execution_count": null,
   "id": "4b7d9757",
   "metadata": {},
   "outputs": [],
   "source": [
    "from transformers import pipeline\n",
    "sentiment_pipeline = pipeline(\"sentiment-analysis\")\n",
    "data = [\"I love you\", \"I hate you\"]\n",
    "sentiment_pipeline(data)"
   ]
  },
  {
   "cell_type": "markdown",
   "id": "10755125",
   "metadata": {},
   "source": [
    "Let's download some data. \n",
    "\n",
    "The `tweets.csv` contains tweets from Hillary Clinton and Donald Trump from the 2016 presidential election."
   ]
  },
  {
   "cell_type": "code",
   "execution_count": null,
   "id": "8e06e628",
   "metadata": {},
   "outputs": [],
   "source": [
    "import pandas as pd\n",
    "df = pd.read_csv('data/tweets.csv')"
   ]
  },
  {
   "cell_type": "code",
   "execution_count": null,
   "id": "bd15de05",
   "metadata": {},
   "outputs": [],
   "source": [
    "df.info()"
   ]
  },
  {
   "cell_type": "markdown",
   "id": "95cfa985",
   "metadata": {},
   "source": [
    "The transformer models can be quite heavy, and we will therefore only run it on a random sample of 100 tweets."
   ]
  },
  {
   "cell_type": "code",
   "execution_count": null,
   "id": "81376886",
   "metadata": {},
   "outputs": [],
   "source": [
    "df_sample = df.sample(100, ignore_index=True)"
   ]
  },
  {
   "cell_type": "code",
   "execution_count": null,
   "id": "63bb6d41",
   "metadata": {},
   "outputs": [],
   "source": [
    "df_sample.head()"
   ]
  },
  {
   "cell_type": "markdown",
   "id": "84971114",
   "metadata": {},
   "source": [
    "We'll use our transformer to perform sentiment analysis on the tweets."
   ]
  },
  {
   "cell_type": "code",
   "execution_count": null,
   "id": "6bf4ea82",
   "metadata": {},
   "outputs": [],
   "source": [
    "sent = pd.DataFrame(sentiment_pipeline(list(df_sample.text)))"
   ]
  },
  {
   "cell_type": "code",
   "execution_count": null,
   "id": "5ace5cf8",
   "metadata": {},
   "outputs": [],
   "source": [
    "sent.head()"
   ]
  },
  {
   "cell_type": "markdown",
   "id": "da3816d9",
   "metadata": {},
   "source": [
    "We then merge the data"
   ]
  },
  {
   "cell_type": "code",
   "execution_count": null,
   "id": "93bfdadf",
   "metadata": {},
   "outputs": [],
   "source": [
    "final = pd.concat([df_sample, sent], axis=1)"
   ]
  },
  {
   "cell_type": "code",
   "execution_count": null,
   "id": "7fd3efbf",
   "metadata": {},
   "outputs": [],
   "source": [
    "final[['text','label', 'score']].head(10)"
   ]
  },
  {
   "cell_type": "code",
   "execution_count": null,
   "id": "f8a727d2",
   "metadata": {},
   "outputs": [],
   "source": [
    "final.text[0]"
   ]
  },
  {
   "cell_type": "code",
   "execution_count": null,
   "id": "b0426f29",
   "metadata": {},
   "outputs": [],
   "source": [
    "final.text[7]"
   ]
  },
  {
   "cell_type": "markdown",
   "id": "58d79668",
   "metadata": {},
   "source": [
    "return to [overview](../00_overview.ipynb)"
   ]
  }
 ],
 "metadata": {
  "kernelspec": {
   "display_name": "Python 3 (ipykernel)",
   "language": "python",
   "name": "python3"
  },
  "language_info": {
   "codemirror_mode": {
    "name": "ipython",
    "version": 3
   },
   "file_extension": ".py",
   "mimetype": "text/x-python",
   "name": "python",
   "nbconvert_exporter": "python",
   "pygments_lexer": "ipython3",
   "version": "3.9.16"
  }
 },
 "nbformat": 4,
 "nbformat_minor": 5
}
